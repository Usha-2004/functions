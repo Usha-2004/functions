{
 "cells": [
  {
   "cell_type": "code",
   "execution_count": 27,
   "id": "d929d72b-bc1c-446e-84e4-dab75cabb1e0",
   "metadata": {},
   "outputs": [
    {
     "name": "stdout",
     "output_type": "stream",
     "text": [
      "0\n",
      "1\n",
      "2\n",
      "3\n",
      "4\n",
      "5\n",
      "6\n",
      "7\n",
      "8\n",
      "9\n",
      "10\n"
     ]
    }
   ],
   "source": [
    "loop=0\n",
    "while loop<=10:\n",
    "    print(loop)\n",
    "    loop+=1"
   ]
  },
  {
   "cell_type": "code",
   "execution_count": 25,
   "id": "1d640606-fae4-471a-87d8-252015b94ad5",
   "metadata": {},
   "outputs": [
    {
     "name": "stdout",
     "output_type": "stream",
     "text": [
      "honey dance honey dance honey dance honey dance honey dance honey dance honey dance honey dance honey dance honey dance honey dance "
     ]
    }
   ],
   "source": [
    "loop=0\n",
    "while loop<=10:\n",
    "    print('honey',end=' ')\n",
    "    print('dance',end=' ')\n",
    "    loop+=1"
   ]
  },
  {
   "cell_type": "code",
   "execution_count": null,
   "id": "bf01d3f6-ecf8-4f65-8edb-7135975827e5",
   "metadata": {},
   "outputs": [],
   "source": [
    "n=int(input(\"enter the value of n:\"))\n",
    "i=1\n",
    "while i<=20:\n",
    "    print(i,end=' ')\n",
    "    i+=1"
   ]
  },
  {
   "cell_type": "code",
   "execution_count": null,
   "id": "10c844ef-0b8b-4025-a8dd-1aa4c18cb978",
   "metadata": {},
   "outputs": [],
   "source": [
    "n=int(input(\"enter the value of n:\"))\n",
    "i=1\n",
    "while i<=20:\n",
    "    if i%2==0:\n",
    "    print(i,end=' ')\n",
    "    i+=1"
   ]
  },
  {
   "cell_type": "code",
   "execution_count": null,
   "id": "a5f640f0-e74d-438f-8293-d9f41575b5f3",
   "metadata": {},
   "outputs": [],
   "source": []
  }
 ],
 "metadata": {
  "kernelspec": {
   "display_name": "Python 3 (ipykernel)",
   "language": "python",
   "name": "python3"
  },
  "language_info": {
   "codemirror_mode": {
    "name": "ipython",
    "version": 3
   },
   "file_extension": ".py",
   "mimetype": "text/x-python",
   "name": "python",
   "nbconvert_exporter": "python",
   "pygments_lexer": "ipython3",
   "version": "3.12.7"
  }
 },
 "nbformat": 4,
 "nbformat_minor": 5
}
