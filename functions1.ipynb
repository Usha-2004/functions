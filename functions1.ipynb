{
 "cells": [
  {
   "cell_type": "code",
   "execution_count": 9,
   "id": "b3d8aba3-7760-4d7b-80b5-5e743c98bf90",
   "metadata": {},
   "outputs": [
    {
     "name": "stdin",
     "output_type": "stream",
     "text": [
      "enter a number 5\n"
     ]
    },
    {
     "name": "stdout",
     "output_type": "stream",
     "text": [
      "factorial 5 is 120\n"
     ]
    }
   ],
   "source": [
    "fact=1\n",
    "def factorial(n):\n",
    "    global fact\n",
    "    fact=1\n",
    "    for i in range(1,n+1):\n",
    "        fact *=i\n",
    "    return fact\n",
    "num=int(input(\"enter a number\"))\n",
    "if num<0:\n",
    "    print(\"cannot derive fact for -ve number\")\n",
    "else:\n",
    "    factorial(num)\n",
    "    print(f\"factorial {num} is\",fact)"
   ]
  },
  {
   "cell_type": "code",
   "execution_count": 19,
   "id": "737630b1-2723-4542-be69-fb4531ce1856",
   "metadata": {},
   "outputs": [
    {
     "name": "stdin",
     "output_type": "stream",
     "text": [
      "enter the value: 5\n"
     ]
    },
    {
     "name": "stdout",
     "output_type": "stream",
     "text": [
      "120\n"
     ]
    }
   ],
   "source": [
    "def factorial(n):\n",
    "    if n==0 or n==1:\n",
    "        return 1\n",
    "    return n * factorial(n-1)\n",
    "num=int(input(\"enter the value:\"))\n",
    "value=factorial(num)\n",
    "print(value)"
   ]
  },
  {
   "cell_type": "code",
   "execution_count": 21,
   "id": "5680eb39-8123-4e4c-9599-aa65d00f1262",
   "metadata": {},
   "outputs": [
    {
     "name": "stdin",
     "output_type": "stream",
     "text": [
      "enter n: 4\n"
     ]
    },
    {
     "name": "stdout",
     "output_type": "stream",
     "text": [
      "sum of first 4 natural numbers is 10\n"
     ]
    }
   ],
   "source": [
    "def nsum(n):\n",
    "    if n==0:\n",
    "        return 0\n",
    "    return n+nsum(n-1)\n",
    "num=int(input(\"enter n:\"))\n",
    "print(f\"sum of first\",num,\"natural numbers is\",nsum(num))"
   ]
  },
  {
   "cell_type": "code",
   "execution_count": 27,
   "id": "1e6074b9-ac55-42ac-a83d-9a4998ac342e",
   "metadata": {},
   "outputs": [
    {
     "name": "stdin",
     "output_type": "stream",
     "text": [
      "enter a word usha\n"
     ]
    },
    {
     "name": "stdout",
     "output_type": "stream",
     "text": [
      "ahsu\n"
     ]
    }
   ],
   "source": [
    "#recursion function with string\n",
    "def rstring(s):\n",
    "    if len(s)==0:\n",
    "        return s\n",
    "    return rstring(s[1:])+s[0]\n",
    "text=input(\"enter a word\")\n",
    "print(rstring(text))"
   ]
  },
  {
   "cell_type": "code",
   "execution_count": 37,
   "id": "c551d78e-6a7d-480b-b5a7-30b6f551cb89",
   "metadata": {},
   "outputs": [
    {
     "name": "stdout",
     "output_type": "stream",
     "text": [
      "5\n",
      "55\n"
     ]
    }
   ],
   "source": [
    "def sumnum(*args):\n",
    "    print(args[4])\n",
    "    return sum(args)\n",
    "print(sumnum(1,2,3,4,5,6,7,8,9,10))"
   ]
  },
  {
   "cell_type": "code",
   "execution_count": 39,
   "id": "1a41dbb9-b730-4993-9608-c1fe6700f924",
   "metadata": {},
   "outputs": [
    {
     "name": "stdout",
     "output_type": "stream",
     "text": [
      "9\n",
      "55\n"
     ]
    }
   ],
   "source": [
    "def sumnum(*args):\n",
    "    print(args[8])\n",
    "    return sum(args)\n",
    "print(sumnum(1,2,3,4,5,6,7,8,9,10))"
   ]
  },
  {
   "cell_type": "code",
   "execution_count": 41,
   "id": "0e882d87-82dc-469e-8b1a-cefbfa8fd311",
   "metadata": {},
   "outputs": [
    {
     "name": "stdout",
     "output_type": "stream",
     "text": [
      "9\n",
      "1\n"
     ]
    }
   ],
   "source": [
    "def sumnum(*args):\n",
    "    print(args[8])\n",
    "    return min(args)\n",
    "print(sumnum(1,2,3,4,5,6,7,8,9,10))"
   ]
  },
  {
   "cell_type": "code",
   "execution_count": 43,
   "id": "2d133133-600b-4208-ba16-181c0656c42d",
   "metadata": {},
   "outputs": [
    {
     "name": "stdout",
     "output_type": "stream",
     "text": [
      "9\n",
      "10\n"
     ]
    }
   ],
   "source": [
    "def sumnum(*args):\n",
    "    print(args[8])\n",
    "    return max(args)\n",
    "print(sumnum(1,2,3,4,5,6,7,8,9,10))"
   ]
  },
  {
   "cell_type": "code",
   "execution_count": 45,
   "id": "c8bfdcc6-9137-4c0a-a154-e644e5d523f7",
   "metadata": {},
   "outputs": [
    {
     "name": "stdout",
     "output_type": "stream",
     "text": [
      "9\n",
      "[1, 2, 3, 4, 5, 6, 7, 8, 9, 10]\n"
     ]
    }
   ],
   "source": [
    "def sumnum(*args):\n",
    "    print(args[8])\n",
    "    return sorted(args)\n",
    "print(sumnum(1,2,3,4,5,6,7,8,9,10))"
   ]
  },
  {
   "cell_type": "code",
   "execution_count": 58,
   "id": "67eb8e10-47dd-4038-ac60-3180b144e69e",
   "metadata": {},
   "outputs": [
    {
     "name": "stdout",
     "output_type": "stream",
     "text": [
      "name:usha\n",
      "age:22\n",
      "cgpa:8.8\n"
     ]
    }
   ],
   "source": [
    "def info(**kwargs):\n",
    "    for key, value in kwargs.items():\n",
    "        print(f\"{key}:{value}\")\n",
    "info(name='usha',age=22,cgpa=8.8)"
   ]
  },
  {
   "cell_type": "code",
   "execution_count": null,
   "id": "b06b0962-9bd6-406f-b224-d5ac6aeff993",
   "metadata": {},
   "outputs": [],
   "source": []
  }
 ],
 "metadata": {
  "kernelspec": {
   "display_name": "Python 3 (ipykernel)",
   "language": "python",
   "name": "python3"
  },
  "language_info": {
   "codemirror_mode": {
    "name": "ipython",
    "version": 3
   },
   "file_extension": ".py",
   "mimetype": "text/x-python",
   "name": "python",
   "nbconvert_exporter": "python",
   "pygments_lexer": "ipython3",
   "version": "3.12.7"
  }
 },
 "nbformat": 4,
 "nbformat_minor": 5
}
