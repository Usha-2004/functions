{
 "cells": [
  {
   "cell_type": "code",
   "execution_count": 1,
   "id": "3d67f21b-3877-42ab-b4ef-7bde27566b5a",
   "metadata": {},
   "outputs": [
    {
     "name": "stdin",
     "output_type": "stream",
     "text": [
      "enter the value of n: 10\n"
     ]
    },
    {
     "name": "stdout",
     "output_type": "stream",
     "text": [
      "total: 1\n",
      "total: 3\n",
      "total: 6\n",
      "total: 10\n",
      "total: 15\n",
      "total: 21\n",
      "total: 28\n",
      "total: 36\n",
      "total: 45\n",
      "total: 55\n"
     ]
    }
   ],
   "source": [
    "sum=0\n",
    "i=1\n",
    "n=int(input(\"enter the value of n:\"))\n",
    "while i<=n:\n",
    "    sum+=i\n",
    "    i+=1\n",
    "    print(\"total:\",sum)"
   ]
  },
  {
   "cell_type": "code",
   "execution_count": null,
   "id": "906c1fd6-0afe-4dde-a3d8-00c1b6e98a80",
   "metadata": {},
   "outputs": [],
   "source": []
  }
 ],
 "metadata": {
  "kernelspec": {
   "display_name": "Python 3 (ipykernel)",
   "language": "python",
   "name": "python3"
  },
  "language_info": {
   "codemirror_mode": {
    "name": "ipython",
    "version": 3
   },
   "file_extension": ".py",
   "mimetype": "text/x-python",
   "name": "python",
   "nbconvert_exporter": "python",
   "pygments_lexer": "ipython3",
   "version": "3.12.7"
  }
 },
 "nbformat": 4,
 "nbformat_minor": 5
}
