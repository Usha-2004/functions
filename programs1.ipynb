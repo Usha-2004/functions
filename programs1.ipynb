{
 "cells": [
  {
   "cell_type": "code",
   "execution_count": 1,
   "id": "9337f439-f69c-49a0-9855-45dcb5d1c40c",
   "metadata": {},
   "outputs": [
    {
     "name": "stdout",
     "output_type": "stream",
     "text": [
      "Reverse string ihtreek\n"
     ]
    }
   ],
   "source": [
    "s=\"keerthi\"\n",
    "rev=\"\"\n",
    "i=len(s)-1\n",
    "while i>=0:\n",
    "    rev+=s[i]\n",
    "    i-=1\n",
    "print(\"Reverse string\",rev)"
   ]
  },
  {
   "cell_type": "code",
   "execution_count": 10,
   "id": "2e95b08c-dbb7-4d81-b05c-9236a8120766",
   "metadata": {},
   "outputs": [
    {
     "name": "stdout",
     "output_type": "stream",
     "text": [
      "reversed word: ippississiM si ni ASU\n"
     ]
    }
   ],
   "source": [
    "text=\"Mississippi is in USA\"\n",
    "words=text.split()\n",
    "i=0\n",
    "while i<len(words):\n",
    "    words[i]= words[i][::-1]\n",
    "    i+=1\n",
    "rev=\" \".join(words)\n",
    "print(\"reversed word:\",rev)"
   ]
  },
  {
   "cell_type": "code",
   "execution_count": 20,
   "id": "1f2d665f-c20d-43ea-aa01-af6f7b6315b4",
   "metadata": {},
   "outputs": [
    {
     "name": "stdout",
     "output_type": "stream",
     "text": [
      "11,13,15,17,19,21,23,25,27,29,31,33,35,37,39,"
     ]
    }
   ],
   "source": [
    "for i in range(11,41,2):\n",
    "    print(i, end=',')"
   ]
  },
  {
   "cell_type": "code",
   "execution_count": 30,
   "id": "230d9396-9769-4d01-82ee-3d2a1a296847",
   "metadata": {},
   "outputs": [
    {
     "name": "stdout",
     "output_type": "stream",
     "text": [
      "41,39,37,35,33,31,29,27,25,23,21,19,17,15,13,11,9,7,5,3,1,"
     ]
    }
   ],
   "source": [
    "for i in range(41,0, -2):\n",
    "    print(i, end=',')"
   ]
  },
  {
   "cell_type": "code",
   "execution_count": 32,
   "id": "d3302d3e-555d-4a39-a1b6-1b1976799f16",
   "metadata": {},
   "outputs": [
    {
     "name": "stdout",
     "output_type": "stream",
     "text": [
      "Apple\n",
      "Bannana\n",
      "kiwi\n"
     ]
    }
   ],
   "source": [
    "fruits= ['Apple','Bannana','kiwi']\n",
    "for fruit in fruits:\n",
    "    print(fruit)"
   ]
  },
  {
   "cell_type": "code",
   "execution_count": 36,
   "id": "4afda880-7895-497b-8c14-eeac4446affe",
   "metadata": {},
   "outputs": [
    {
     "ename": "SyntaxError",
     "evalue": "expected ':' (2089137573.py, line 12)",
     "output_type": "error",
     "traceback": [
      "\u001b[1;36m  Cell \u001b[1;32mIn[36], line 12\u001b[1;36m\u001b[0m\n\u001b[1;33m    if sum\u001b[0m\n\u001b[1;37m          ^\u001b[0m\n\u001b[1;31mSyntaxError\u001b[0m\u001b[1;31m:\u001b[0m expected ':'\n"
     ]
    }
   ],
   "source": [
    "#strong number\n",
    "num= int(input(\"enter the number:\"))\n",
    "copy= num\n",
    "sum=0\n",
    "while num>=0:\n",
    "    d= num%10\n",
    "    f=1\n",
    "    for i in range(1,d+1):\n",
    "        f*=i\n",
    "    sum+=f\n",
    "    num//10\n",
    "if sum"
   ]
  },
  {
   "cell_type": "code",
   "execution_count": null,
   "id": "f22c391b-d151-4caa-a763-c76eb3701332",
   "metadata": {},
   "outputs": [],
   "source": []
  }
 ],
 "metadata": {
  "kernelspec": {
   "display_name": "Python 3 (ipykernel)",
   "language": "python",
   "name": "python3"
  },
  "language_info": {
   "codemirror_mode": {
    "name": "ipython",
    "version": 3
   },
   "file_extension": ".py",
   "mimetype": "text/x-python",
   "name": "python",
   "nbconvert_exporter": "python",
   "pygments_lexer": "ipython3",
   "version": "3.12.7"
  }
 },
 "nbformat": 4,
 "nbformat_minor": 5
}
