{
 "cells": [
  {
   "cell_type": "code",
   "execution_count": 19,
   "id": "31044552-4ef7-4f38-b537-5531d98fd375",
   "metadata": {},
   "outputs": [
    {
     "name": "stdin",
     "output_type": "stream",
     "text": [
      "enter a number: 4\n"
     ]
    },
    {
     "name": "stdout",
     "output_type": "stream",
     "text": [
      "^ ^ ^ ^ \n",
      "^ ^ ^ ^ \n",
      "^ ^ ^ ^ \n",
      "^ ^ ^ ^ \n"
     ]
    }
   ],
   "source": [
    "# nested loops\n",
    "n=int(input(\"enter a number:\"))\n",
    "for i in range(n):\n",
    "    for j in range(n):\n",
    "        print('^',end=\" \")\n",
    "    print()"
   ]
  },
  {
   "cell_type": "code",
   "execution_count": 21,
   "id": "63dac9bb-fdd0-457c-b274-78ffe0f987ff",
   "metadata": {},
   "outputs": [
    {
     "name": "stdin",
     "output_type": "stream",
     "text": [
      "enter a number: 5\n"
     ]
    },
    {
     "name": "stdout",
     "output_type": "stream",
     "text": [
      "* * * * * \n",
      "* * * * * \n",
      "* * * * * \n",
      "* * * * * \n",
      "* * * * * \n"
     ]
    }
   ],
   "source": [
    "# nested loops\n",
    "n=int(input(\"enter a number:\"))\n",
    "for i in range(n):\n",
    "    for j in range(n):\n",
    "        print('*',end=\" \")\n",
    "    print()"
   ]
  },
  {
   "cell_type": "code",
   "execution_count": 23,
   "id": "fe5fafe8-7572-4cc2-b553-aa979f9e698d",
   "metadata": {},
   "outputs": [
    {
     "name": "stdin",
     "output_type": "stream",
     "text": [
      "enter a number: 5\n"
     ]
    },
    {
     "name": "stdout",
     "output_type": "stream",
     "text": [
      "\n",
      "* \n",
      "* * \n",
      "* * * \n",
      "* * * * \n"
     ]
    }
   ],
   "source": [
    "#printing a right angle triangle\n",
    "# nested loops\n",
    "n=int(input(\"enter a number:\"))\n",
    "for i in range(n):\n",
    "    for j in range (i):\n",
    "        print('*',end=' ')\n",
    "    print()"
   ]
  },
  {
   "cell_type": "code",
   "execution_count": 11,
   "id": "0377fdad-1858-453e-a7e4-b74d2e9b4869",
   "metadata": {},
   "outputs": [
    {
     "name": "stdout",
     "output_type": "stream",
     "text": [
      "\n",
      " * \n",
      " *  * \n",
      " *  *  * \n",
      " *  *  *  * \n"
     ]
    }
   ],
   "source": [
    "#printing right angle triangle using single loop\n",
    "\n",
    "for i in  range(5):\n",
    "    print(\" * \" *i)\n"
   ]
  },
  {
   "cell_type": "code",
   "execution_count": 9,
   "id": "67273758-9ac1-493d-a9ea-f716a3099750",
   "metadata": {},
   "outputs": [
    {
     "name": "stdout",
     "output_type": "stream",
     "text": [
      " *  *  *  *  * \n",
      " *  *  *  *  * \n",
      " *  *  *  *  * \n",
      " *  *  *  *  * \n",
      " *  *  *  *  * \n"
     ]
    }
   ],
   "source": [
    "#printing a square\n",
    "for i in range(5):\n",
    "    print(\" * \"*5)"
   ]
  },
  {
   "cell_type": "code",
   "execution_count": 51,
   "id": "8725c033-6ad4-4268-a123-d488420ac335",
   "metadata": {},
   "outputs": [
    {
     "name": "stdin",
     "output_type": "stream",
     "text": [
      "enter a number: 4\n"
     ]
    },
    {
     "name": "stdout",
     "output_type": "stream",
     "text": [
      "* * * * \n",
      "*     * \n",
      "*     * \n",
      "* * * * \n"
     ]
    }
   ],
   "source": [
    "#printing a hollow square\n",
    "\n",
    "n=int(input(\"enter a number:\"))\n",
    "for i in range(n):\n",
    "    for j in range(n):\n",
    "        if i==0 or i==n-1 or j==0 or j==n-1:\n",
    "            print('*',end=\" \")\n",
    "        else:\n",
    "            print(\" \",end=\" \")\n",
    "    print()"
   ]
  },
  {
   "cell_type": "code",
   "execution_count": 72,
   "id": "63d50158-25c6-46f0-93c3-b3dc13513c51",
   "metadata": {},
   "outputs": [
    {
     "name": "stdin",
     "output_type": "stream",
     "text": [
      "enter a number: 7\n"
     ]
    },
    {
     "name": "stdout",
     "output_type": "stream",
     "text": [
      "* * * * * * * \n",
      "* *       * * \n",
      "*   *   *   * \n",
      "*     *     * \n",
      "*   *   *   * \n",
      "* *       * * \n",
      "* * * * * * * \n"
     ]
    }
   ],
   "source": [
    "#printing a hollow square\n",
    "\n",
    "n=int(input(\"enter a number:\"))\n",
    "for i in range(n):\n",
    "    for j in range(n):\n",
    "        if i==0 or i==n-1 or j==0 or j==n-1 or i==j or i+j==n-1:\n",
    "            print('*',end=\" \")\n",
    "        else:\n",
    "            print(\" \",end=\" \")\n",
    "    print()"
   ]
  },
  {
   "cell_type": "code",
   "execution_count": 74,
   "id": "e99c25b3-c4ef-4257-a9a7-10c7454ccb00",
   "metadata": {},
   "outputs": [
    {
     "name": "stdin",
     "output_type": "stream",
     "text": [
      "enter a number: 7\n"
     ]
    },
    {
     "name": "stdout",
     "output_type": "stream",
     "text": [
      "*           * \n",
      "  *       *   \n",
      "    *   *     \n",
      "      *       \n",
      "    *   *     \n",
      "  *       *   \n",
      "*           * \n"
     ]
    }
   ],
   "source": [
    "#printing a hollow square\n",
    "\n",
    "n=int(input(\"enter a number:\"))\n",
    "for i in range(n):\n",
    "    for j in range(n):\n",
    "        if i==j or i+j==n-1:\n",
    "            print('*',end=\" \")\n",
    "        else:\n",
    "            print(\" \",end=\" \")\n",
    "    print()"
   ]
  },
  {
   "cell_type": "code",
   "execution_count": 76,
   "id": "ec9d4473-0b1c-4c6d-abb4-df0158f65249",
   "metadata": {},
   "outputs": [
    {
     "name": "stdin",
     "output_type": "stream",
     "text": [
      "enter a number: 7\n"
     ]
    },
    {
     "name": "stdout",
     "output_type": "stream",
     "text": [
      "*           * \n",
      "* *       * * \n",
      "*   *   *   * \n",
      "*     *     * \n",
      "*   *   *   * \n",
      "* *       * * \n",
      "*           * \n"
     ]
    }
   ],
   "source": [
    "#printing a hollow square\n",
    "\n",
    "n=int(input(\"enter a number:\"))\n",
    "for i in range(n):\n",
    "    for j in range(n):\n",
    "        if  j==0 or j==n-1 or i==j or i+j==n-1:\n",
    "            print('*',end=\" \")\n",
    "        else:\n",
    "            print(\" \",end=\" \")\n",
    "    print()"
   ]
  },
  {
   "cell_type": "code",
   "execution_count": 82,
   "id": "a7be1b90-4ff0-4c94-a8ec-3c08e4c603c7",
   "metadata": {},
   "outputs": [
    {
     "name": "stdin",
     "output_type": "stream",
     "text": [
      "enter a number: 7\n"
     ]
    },
    {
     "name": "stdout",
     "output_type": "stream",
     "text": [
      "* * * * * * * \n",
      "  *       *   \n",
      "    *   *     \n",
      "      *       \n",
      "    *   *     \n",
      "  *       *   \n",
      "* * * * * * * \n"
     ]
    }
   ],
   "source": [
    "n=int(input(\"enter a number:\"))\n",
    "for i in range(n):\n",
    "    for j in range(n):\n",
    "        if i==0 or i==n-1  or i==j or i+j==n-1:\n",
    "            print('*',end=\" \")\n",
    "        else:\n",
    "            print(\" \",end=\" \")\n",
    "    print()"
   ]
  },
  {
   "cell_type": "code",
   "execution_count": 176,
   "id": "47ec9337-bdb0-401a-8954-73ddc911a699",
   "metadata": {},
   "outputs": [
    {
     "name": "stdout",
     "output_type": "stream",
     "text": [
      "*           * \n",
      "* *         * \n",
      "*   *       * \n",
      "*     *     * \n",
      "*       *   * \n",
      "*         * * \n",
      "*           * \n"
     ]
    }
   ],
   "source": [
    "#printing a hollow square\n",
    "\n",
    "for i in range(7):\n",
    "    for j in range(7):\n",
    "        if  j==0 or j==7-1 or i==j :\n",
    "            print('*',end=\" \")\n",
    "        else:\n",
    "            print(\" \",end=\" \")\n",
    "    print()"
   ]
  },
  {
   "cell_type": "code",
   "execution_count": 78,
   "id": "e6ba6f5c-38af-4d24-828b-ed8388f21528",
   "metadata": {},
   "outputs": [
    {
     "name": "stdout",
     "output_type": "stream",
     "text": [
      "p \n",
      "p r \n",
      "p r a \n",
      "p r a s \n",
      "p r a s a \n",
      "p r a s a n \n",
      "p r a s a n n \n",
      "p r a s a n n a \n"
     ]
    }
   ],
   "source": [
    "text=\"prasanna\"\n",
    "r=len(text)\n",
    "for i in range(r):\n",
    "    for j in range(i+1):\n",
    "        print(text[j],end=\" \")\n",
    "    print()"
   ]
  },
  {
   "cell_type": "code",
   "execution_count": 144,
   "id": "2ebc5621-f8eb-43a7-bef2-2fb64a07a746",
   "metadata": {},
   "outputs": [
    {
     "name": "stdin",
     "output_type": "stream",
     "text": [
      "enter the range: 11\n"
     ]
    },
    {
     "name": "stdout",
     "output_type": "stream",
     "text": [
      "0 \n",
      "0 1 \n",
      "0 1 2 \n",
      "0 1 2 3 \n",
      "0 1 2 3 4 \n",
      "0 1 2 3 4 5 \n",
      "0 1 2 3 4 5 6 \n",
      "0 1 2 3 4 5 6 7 \n",
      "0 1 2 3 4 5 6 7 8 \n",
      "0 1 2 3 4 5 6 7 8 9 \n",
      "0 1 2 3 4 5 6 7 8 9 10 \n"
     ]
    }
   ],
   "source": [
    "n=int(input(\"enter the range:\"))\n",
    "for i in range(n):\n",
    "    for j in range(i+1):\n",
    "        print(j,end=\" \")\n",
    "    print()"
   ]
  },
  {
   "cell_type": "code",
   "execution_count": 134,
   "id": "0bbbbdad-b0e6-43d7-85a1-b8ff2042d008",
   "metadata": {},
   "outputs": [
    {
     "name": "stdin",
     "output_type": "stream",
     "text": [
      " 5\n"
     ]
    },
    {
     "name": "stdout",
     "output_type": "stream",
     "text": [
      "* * * * * \n",
      "* * * * \n",
      "* * * \n",
      "* * \n",
      "* \n"
     ]
    }
   ],
   "source": [
    "n=int(input())\n",
    "for i in range(n):\n",
    "    for j in range(n-i):\n",
    "        print(\"*\",end=' ')\n",
    "    print()"
   ]
  },
  {
   "cell_type": "code",
   "execution_count": 140,
   "id": "9d95a09f-8794-4b4d-bf0f-7ea1bbcdc7ee",
   "metadata": {},
   "outputs": [
    {
     "name": "stdout",
     "output_type": "stream",
     "text": [
      "* \n",
      "* * \n",
      "* * * \n",
      "* * * * \n",
      "* * * * * \n",
      "* * * * \n",
      "* * * \n",
      "* * \n",
      "* \n"
     ]
    }
   ],
   "source": [
    "n=5\n",
    "for i in range(1,2*n):\n",
    "    s=i if i<=n else 2*n-i\n",
    "    for j in range(s):\n",
    "        print(\"*\",end=\" \")\n",
    "    print()"
   ]
  },
  {
   "cell_type": "code",
   "execution_count": 182,
   "id": "164a18fd-854b-41c5-b522-b0bce10f4247",
   "metadata": {},
   "outputs": [
    {
     "name": "stdout",
     "output_type": "stream",
     "text": [
      "* \n",
      "* * \n",
      "* * * \n",
      "* * * * \n",
      "* * * * * \n",
      "* * * * \n",
      "* * * \n",
      "* * \n",
      "* \n",
      "\n"
     ]
    }
   ],
   "source": [
    "n=5\n",
    "for i in range(1,n+1):\n",
    "    for j in range(i):\n",
    "        print(\"*\",end=\" \")\n",
    "    print()\n",
    "for i in range(1,n+1):\n",
    "    for j in range(n-i):\n",
    "        print(\"*\",end=\" \")\n",
    "    print()\n",
    "    "
   ]
  },
  {
   "cell_type": "code",
   "execution_count": 227,
   "id": "aaad0fdf-6a89-4169-88d3-6cc0b640f216",
   "metadata": {},
   "outputs": [
    {
     "name": "stdout",
     "output_type": "stream",
     "text": [
      "        * \n",
      "      * * * \n",
      "    * * * * * \n",
      "  * * * * * * * \n",
      "* * * * * * * * * \n"
     ]
    }
   ],
   "source": [
    "n=5\n",
    "for i in range(1,n+1):\n",
    "    for s in range(n-i):\n",
    "        print(\" \",end=\" \")\n",
    "    for st in range(2*i-1):\n",
    "        print(\"*\",end=\" \")\n",
    "     \n",
    "    print()\n",
    "    "
   ]
  },
  {
   "cell_type": "code",
   "execution_count": 252,
   "id": "702f5687-2e1a-4206-a795-09ce591eca8c",
   "metadata": {},
   "outputs": [
    {
     "name": "stdout",
     "output_type": "stream",
     "text": [
      "        1   \n",
      "      1   1   \n",
      "    1   2   1   \n",
      "  1   3   3   1   \n",
      "1   4   6   4   1   \n"
     ]
    }
   ],
   "source": [
    "n=5\n",
    "for i in range(n):\n",
    "    for s in range(n-i-1):\n",
    "        print(\" \",end=\" \")\n",
    "    num=1\n",
    "    for j in range(i+1):\n",
    "        print(f\"{num}  \",end=\" \")\n",
    "        num=num*(i-j)//(j+1)\n",
    "    print()\n",
    "    "
   ]
  },
  {
   "cell_type": "code",
   "execution_count": 5,
   "id": "75ab2b7b-674c-4c08-85a4-0d92367dae27",
   "metadata": {},
   "outputs": [
    {
     "name": "stdout",
     "output_type": "stream",
     "text": [
      "1 \n",
      "2 3 \n",
      "4 5 6 \n",
      "7 8 9 10 \n"
     ]
    }
   ],
   "source": [
    "# floyd's triangle\n",
    "'''\n",
    "1\n",
    "2 3\n",
    "4 5 6\n",
    "7 8 9 10'''\n",
    "r=4\n",
    "n=1\n",
    "for i in range(1,r+1):\n",
    "    for j in range(i):\n",
    "        print(n,end=' ')\n",
    "        n+=1\n",
    "    print()"
   ]
  },
  {
   "cell_type": "code",
   "execution_count": 17,
   "id": "6daca02a-6806-46da-bd7d-f860cb24d730",
   "metadata": {},
   "outputs": [
    {
     "name": "stdout",
     "output_type": "stream",
     "text": [
      "     *\n",
      "    **\n",
      "   ***\n",
      "  ****\n",
      " *****\n"
     ]
    }
   ],
   "source": [
    "n=5\n",
    "for i in range(1,n+1):\n",
    "    print(' '*(n-i),end=' ')\n",
    "    for j in range(i):\n",
    "        print('*',end='')\n",
    "    print()"
   ]
  },
  {
   "cell_type": "code",
   "execution_count": 37,
   "id": "003c99d6-a2ec-44d4-b90c-4d5b565e3652",
   "metadata": {},
   "outputs": [
    {
     "name": "stdout",
     "output_type": "stream",
     "text": [
      "     *\n",
      "    **\n",
      "   ***\n",
      "  ****\n",
      " *****\n",
      "  ****\n",
      "   ***\n",
      "    **\n",
      "     *\n"
     ]
    }
   ],
   "source": [
    "n=5\n",
    "for i in range(1,n+1):\n",
    "    print(' '*(n-i),end=' ')\n",
    "    for j in range(i):\n",
    "        print('*',end='')\n",
    "    print()\n",
    "n=5\n",
    "for i in range(n-1,0,-1):\n",
    "    print(' '*(n-i),end=' ')\n",
    "    for j in range(i):\n",
    "        print('*',end='')\n",
    "    print()"
   ]
  },
  {
   "cell_type": "code",
   "execution_count": null,
   "id": "f6b82532-37e3-4c33-8882-f8a9dc335af9",
   "metadata": {},
   "outputs": [],
   "source": []
  }
 ],
 "metadata": {
  "kernelspec": {
   "display_name": "Python 3 (ipykernel)",
   "language": "python",
   "name": "python3"
  },
  "language_info": {
   "codemirror_mode": {
    "name": "ipython",
    "version": 3
   },
   "file_extension": ".py",
   "mimetype": "text/x-python",
   "name": "python",
   "nbconvert_exporter": "python",
   "pygments_lexer": "ipython3",
   "version": "3.12.7"
  }
 },
 "nbformat": 4,
 "nbformat_minor": 5
}
