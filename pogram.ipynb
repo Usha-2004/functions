{
 "cells": [
  {
   "cell_type": "code",
   "execution_count": 1,
   "id": "368d7ae3-ca00-4924-840e-8c9e2bf6a3af",
   "metadata": {},
   "outputs": [
    {
     "name": "stdin",
     "output_type": "stream",
     "text": [
      "Enter the numerator: 22\n",
      "Enter the denominator: 2\n"
     ]
    },
    {
     "name": "stdout",
     "output_type": "stream",
     "text": [
      "Qoutient: 11.0\n"
     ]
    }
   ],
   "source": [
    "num=int(input(\"Enter the numerator:\"))\n",
    "deno=int(input(\"Enter the denominator:\"))\n",
    "try:\n",
    "    quo=num/deno\n",
    "    print(\"Qoutient:\",quo)\n",
    "except ZeroDivisionError:\n",
    "    print(\"Denominator cannot be zero\")\n",
    "    "
   ]
  },
  {
   "cell_type": "code",
   "execution_count": 3,
   "id": "6b491947-3269-42a6-9b72-8c540d0a0db6",
   "metadata": {},
   "outputs": [
    {
     "name": "stdin",
     "output_type": "stream",
     "text": [
      "Enter a number : 87\n"
     ]
    },
    {
     "name": "stdout",
     "output_type": "stream",
     "text": [
      "7569\n",
      "Bye\n"
     ]
    }
   ],
   "source": [
    "try:\n",
    "    num = int(input(\"Enter a number :\"))\n",
    "    print(num**2)\n",
    "except(KeyboarInterrupt):\n",
    "    print(\"You have to enter a number....not string\")\n",
    "except(ValueError):\n",
    "    print(\"Please check before you enter....program\")\n",
    "print(\"Bye\")"
   ]
  },
  {
   "cell_type": "code",
   "execution_count": 5,
   "id": "8156b06f-2e2e-43f0-a7ee-5a85602b9672",
   "metadata": {},
   "outputs": [
    {
     "name": "stdout",
     "output_type": "stream",
     "text": [
      "4\n",
      "even executing perfectly...exception raised  manually\n"
     ]
    }
   ],
   "source": [
    "try:\n",
    "    num=4\n",
    "    print(num)\n",
    "    raise ValueError\n",
    "except:\n",
    "    print(\"even executing perfectly...exception raised  manually\"\"\")"
   ]
  },
  {
   "cell_type": "code",
   "execution_count": 7,
   "id": "d1d40f34-f936-4c8d-94dd-0f627d2831e8",
   "metadata": {},
   "outputs": [
    {
     "name": "stdout",
     "output_type": "stream",
     "text": [
      "re-raise\n"
     ]
    },
    {
     "ename": "NameError",
     "evalue": "",
     "output_type": "error",
     "traceback": [
      "\u001b[1;31m---------------------------------------------------------------------------\u001b[0m",
      "\u001b[1;31mNameError\u001b[0m                                 Traceback (most recent call last)",
      "Cell \u001b[1;32mIn[7], line 2\u001b[0m\n\u001b[0;32m      1\u001b[0m \u001b[38;5;28;01mtry\u001b[39;00m:\n\u001b[1;32m----> 2\u001b[0m     \u001b[38;5;28;01mraise\u001b[39;00m \u001b[38;5;167;01mNameError\u001b[39;00m\n\u001b[0;32m      3\u001b[0m \u001b[38;5;28;01mexcept\u001b[39;00m:\n\u001b[0;32m      4\u001b[0m     \u001b[38;5;28mprint\u001b[39m(\u001b[38;5;124m\"\u001b[39m\u001b[38;5;124mre-raise\u001b[39m\u001b[38;5;124m\"\u001b[39m)\n",
      "\u001b[1;31mNameError\u001b[0m: "
     ]
    }
   ],
   "source": [
    "try:\n",
    "    raise NameError\n",
    "except:\n",
    "    print(\"re-raise\")\n",
    "    raise"
   ]
  },
  {
   "cell_type": "code",
   "execution_count": 9,
   "id": "d0d79cdf-a137-4d7b-bfa2-2170d8e09f7c",
   "metadata": {},
   "outputs": [
    {
     "name": "stdout",
     "output_type": "stream",
     "text": [
      "<class 'Exception'>\n",
      "('hi', 'students')\n",
      "('hi', 'students')\n",
      "Assigned1: hi\n",
      "Assigned2: students\n"
     ]
    }
   ],
   "source": [
    "try:\n",
    "    raise Exception('hi','students')\n",
    "except Exception as errorObj:\n",
    "    print(type(errorObj))\n",
    "    print(errorObj.args)\n",
    "    print(errorObj)\n",
    "    x,y=errorObj.args\n",
    "    print(\"Assigned1:\",x)\n",
    "    print(\"Assigned2:\",y)\n",
    "    \n",
    "    "
   ]
  },
  {
   "cell_type": "code",
   "execution_count": null,
   "id": "88ec2e6b-db13-476b-b6e5-6694422178e7",
   "metadata": {},
   "outputs": [],
   "source": [
    "def div(n, d):\n",
    "    try:\n",
    "        q=n/d\n",
    "        print(q)\n",
    "    except ZeroDivisionError:\n",
    "        print(\"non-processed\")\n",
    "a=int(input(\"Enter numerator:\"))\n",
    "b=int(input(\"Enter denominator:\"))\n",
    "div(a,b)\n",
    "            "
   ]
  },
  {
   "cell_type": "code",
   "execution_count": null,
   "id": "c1e3336c-b1f0-427c-893e-ff27a6690fe4",
   "metadata": {},
   "outputs": [],
   "source": [
    "class myError(Exception):\n",
    "    def __init__(self, value):\n",
    "        self.value=value\n",
    "    def __str__(self):\n",
    "        return repr(self, value)\n",
    "try:\n",
    "    raise myError(99)\n"
   ]
  },
  {
   "cell_type": "code",
   "execution_count": null,
   "id": "98df4839-788f-4148-a539-a5bcabcda7dc",
   "metadata": {},
   "outputs": [],
   "source": []
  }
 ],
 "metadata": {
  "kernelspec": {
   "display_name": "Python 3 (ipykernel)",
   "language": "python",
   "name": "python3"
  },
  "language_info": {
   "codemirror_mode": {
    "name": "ipython",
    "version": 3
   },
   "file_extension": ".py",
   "mimetype": "text/x-python",
   "name": "python",
   "nbconvert_exporter": "python",
   "pygments_lexer": "ipython3",
   "version": "3.12.7"
  }
 },
 "nbformat": 4,
 "nbformat_minor": 5
}
