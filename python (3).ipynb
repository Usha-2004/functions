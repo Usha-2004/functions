{
 "cells": [
  {
   "cell_type": "code",
   "execution_count": 3,
   "id": "2195ef36-7899-402f-a000-b2648d714225",
   "metadata": {},
   "outputs": [
    {
     "name": "stdout",
     "output_type": "stream",
     "text": [
      "Hello Friends\n",
      "Jyothi Jyothi Jyothi Jyothi Jyothi \n"
     ]
    }
   ],
   "source": [
    "#def functionname(parameters):\n",
    "         #return value\n",
    "def hi():                    #callee\n",
    "    print(\"Hello Friends\")   #responses of callee\n",
    "    print(\"Jyothi \"*5)\n",
    "hi()                         # caller"
   ]
  },
  {
   "cell_type": "code",
   "execution_count": 7,
   "id": "31f60f74-3c40-4e4e-80d9-ba24e4f3425c",
   "metadata": {},
   "outputs": [
    {
     "name": "stdin",
     "output_type": "stream",
     "text": [
      "Enter the money: 40\n",
      "Enter the money: 60\n"
     ]
    },
    {
     "name": "stdout",
     "output_type": "stream",
     "text": [
      "Total amount: 100\n"
     ]
    }
   ],
   "source": [
    "# functions with parameters/ return value\n",
    "def add(a,b):\n",
    "    return a+b\n",
    "student1= int(input(\"Enter the money:\"))\n",
    "student2= int(input(\"Enter the money:\"))\n",
    "total= add(student1, student2)\n",
    "print(\"Total amount:\", total)"
   ]
  },
  {
   "cell_type": "code",
   "execution_count": 9,
   "id": "327b0bf0-e3b9-49be-88dc-3b373238711a",
   "metadata": {},
   "outputs": [
    {
     "name": "stdin",
     "output_type": "stream",
     "text": [
      "Enter the money: 30\n",
      "Enter the money: 70\n"
     ]
    },
    {
     "name": "stdout",
     "output_type": "stream",
     "text": [
      "Total: 100\n"
     ]
    }
   ],
   "source": [
    "def add(student1,student2):\n",
    "    print(\"Total:\",student1+student2)\n",
    "student1= int(input(\"Enter the money:\"))\n",
    "student2= int(input(\"Enter the money:\"))\n",
    "add(student1, student2)\n"
   ]
  },
  {
   "cell_type": "code",
   "execution_count": 11,
   "id": "7e2e86d3-535a-4446-a286-b3764afbfe24",
   "metadata": {},
   "outputs": [
    {
     "name": "stdin",
     "output_type": "stream",
     "text": [
      "Enter the money: 50\n",
      "Enter the money: 50\n"
     ]
    },
    {
     "name": "stdout",
     "output_type": "stream",
     "text": [
      "Total amount: 100\n"
     ]
    }
   ],
   "source": [
    "def add(student1,student2):\n",
    "    return student1+student2\n",
    "student1= int(input(\"Enter the money:\"))\n",
    "student2= int(input(\"Enter the money:\"))\n",
    "total= add(student1, student2)\n",
    "print(\"Total amount:\", total)"
   ]
  },
  {
   "cell_type": "code",
   "execution_count": 15,
   "id": "2c57e696-c486-4e55-bb6a-89f5d7a9fd38",
   "metadata": {},
   "outputs": [
    {
     "name": "stdout",
     "output_type": "stream",
     "text": [
      "Value in the function is 3.14159\n"
     ]
    }
   ],
   "source": [
    "def value():\n",
    "    return 3.14159\n",
    "result=value()\n",
    "print(\"Value in the function is\",result)"
   ]
  },
  {
   "cell_type": "code",
   "execution_count": 17,
   "id": "ae61e162-aba1-408c-b119-d0c72cd838a5",
   "metadata": {},
   "outputs": [
    {
     "name": "stdin",
     "output_type": "stream",
     "text": [
      "Enter your name: Jyothi\n"
     ]
    },
    {
     "name": "stdout",
     "output_type": "stream",
     "text": [
      "Welcome Jyothi\n"
     ]
    }
   ],
   "source": [
    "def get_name():\n",
    "    name= input(\"Enter your name:\")\n",
    "    return name\n",
    "username= get_name()\n",
    "print(\"Welcome\",username)"
   ]
  },
  {
   "cell_type": "code",
   "execution_count": 21,
   "id": "5d2e5568-4c16-4434-b249-f93991d5939c",
   "metadata": {},
   "outputs": [
    {
     "name": "stdout",
     "output_type": "stream",
     "text": [
      "120\n"
     ]
    }
   ],
   "source": [
    "a=100\n",
    "def value(a):\n",
    "    return a+20\n",
    "op= (value(a))\n",
    "print(op)"
   ]
  },
  {
   "cell_type": "code",
   "execution_count": 23,
   "id": "d2d7227f-b5c9-46f8-9c50-7d2637a2c6cf",
   "metadata": {},
   "outputs": [
    {
     "name": "stdout",
     "output_type": "stream",
     "text": [
      "100\n"
     ]
    }
   ],
   "source": [
    "a=100\n",
    "def value(a):\n",
    "    return a\n",
    "print(value(a))"
   ]
  },
  {
   "cell_type": "code",
   "execution_count": 25,
   "id": "0ceb5e27-273c-4b5c-8e2a-18d6203b34a5",
   "metadata": {},
   "outputs": [
    {
     "name": "stdout",
     "output_type": "stream",
     "text": [
      "Hello jyothi\n"
     ]
    }
   ],
   "source": [
    "def hi(name):\n",
    "    print(\"Hello\", name)\n",
    "hi(\"jyothi\")"
   ]
  },
  {
   "cell_type": "code",
   "execution_count": 27,
   "id": "6b53088a-8914-43b2-ac57-2efa34d89fdc",
   "metadata": {},
   "outputs": [
    {
     "name": "stdout",
     "output_type": "stream",
     "text": [
      "Hello 7\n"
     ]
    }
   ],
   "source": [
    "def hi(name):\n",
    "    print(\"Hello\", name)\n",
    "hi(7)"
   ]
  },
  {
   "cell_type": "code",
   "execution_count": 29,
   "id": "1a64bf09-ca1d-4b0b-a93b-71ae969b25d6",
   "metadata": {},
   "outputs": [
    {
     "name": "stdin",
     "output_type": "stream",
     "text": [
      "Enter data: Jyothi\n"
     ]
    },
    {
     "name": "stdout",
     "output_type": "stream",
     "text": [
      "Hello Jyothi\n"
     ]
    }
   ],
   "source": [
    "def hi(name):\n",
    "    print(\"Hello\", name)\n",
    "a= input(\"Enter data:\")\n",
    "hi(a)"
   ]
  },
  {
   "cell_type": "code",
   "execution_count": 33,
   "id": "4ab52184-b87b-4e96-be89-c5965fc30034",
   "metadata": {},
   "outputs": [
    {
     "name": "stdin",
     "output_type": "stream",
     "text": [
      "Enter data: Jyothi\n"
     ]
    },
    {
     "name": "stdout",
     "output_type": "stream",
     "text": [
      "Hello Guest\n",
      "Hello Jyothi\n"
     ]
    }
   ],
   "source": [
    "def hi(name='Guest'):\n",
    "    print(\"Hello\", name)\n",
    "a= input(\"Enter data:\")\n",
    "hi()\n",
    "hi(a)"
   ]
  },
  {
   "cell_type": "code",
   "execution_count": 39,
   "id": "1ed5d5e8-1e4e-460a-8d36-efca49e038fb",
   "metadata": {},
   "outputs": [
    {
     "name": "stdout",
     "output_type": "stream",
     "text": [
      "Name: Jyothi\n",
      "Age: 20\n",
      "Name: Marks\n",
      "Age: 0\n",
      "Name: unknown\n",
      "Age: 21\n",
      "Name: unknown\n",
      "Age: 0\n"
     ]
    }
   ],
   "source": [
    "def info(name= 'unknown', age=0):\n",
    "    print(\"Name:\",name)\n",
    "    print(\"Age:\",age)\n",
    "info(\"Jyothi\",20)\n",
    "info(\"Marks\")\n",
    "info(age=21)\n",
    "info()"
   ]
  },
  {
   "cell_type": "code",
   "execution_count": 45,
   "id": "c3496f4d-189b-4840-9a31-a6c735899fc8",
   "metadata": {},
   "outputs": [
    {
     "name": "stdin",
     "output_type": "stream",
     "text": [
      "Enter a: 6\n",
      "Enter b: 7\n"
     ]
    },
    {
     "name": "stdout",
     "output_type": "stream",
     "text": [
      "sum= 13\n"
     ]
    }
   ],
   "source": [
    "def cal(a,b):\n",
    "    return a+b\n",
    "a= int(input(\"Enter a:\"))\n",
    "b= int(input(\"Enter b:\"))\n",
    "sum= cal(a,b)\n",
    "print(\"sum=\",sum)"
   ]
  },
  {
   "cell_type": "code",
   "execution_count": 47,
   "id": "a63d45dd-4436-4fc0-b058-98d906eb850b",
   "metadata": {},
   "outputs": [
    {
     "name": "stdin",
     "output_type": "stream",
     "text": [
      "Enter a: 6\n",
      "Enter b: 7\n"
     ]
    },
    {
     "name": "stdout",
     "output_type": "stream",
     "text": [
      "sum= (13, -1, 42, 0.8571428571428571)\n"
     ]
    }
   ],
   "source": [
    "def cal(a,b):\n",
    "    return a+b, a-b, a*b, a/b\n",
    "a= int(input(\"Enter a:\"))\n",
    "b= int(input(\"Enter b:\"))\n",
    "sum= cal(a,b)\n",
    "print(\"sum=\",sum)"
   ]
  },
  {
   "cell_type": "code",
   "execution_count": 49,
   "id": "af5645de-ccea-4d6a-b5ef-9dcdfbc85d74",
   "metadata": {},
   "outputs": [
    {
     "name": "stdin",
     "output_type": "stream",
     "text": [
      "Enter a: 6\n",
      "Enter b: 7\n"
     ]
    },
    {
     "name": "stdout",
     "output_type": "stream",
     "text": [
      "Sum= 13\n",
      "Subtract= -1\n",
      "Product= 42\n",
      "Division= 0.8571428571428571\n"
     ]
    }
   ],
   "source": [
    "def cal(a,b):\n",
    "    return a+b, a-b, a*b, a/b\n",
    "a= int(input(\"Enter a:\"))\n",
    "b= int(input(\"Enter b:\"))\n",
    "sum, diff, pro,div= cal(a,b)\n",
    "print(\"Sum=\", sum)\n",
    "print(\"Subtract=\", diff)\n",
    "print(\"Product=\", pro)\n",
    "print(\"Division=\", div)"
   ]
  },
  {
   "cell_type": "code",
   "execution_count": 53,
   "id": "2acdb474-5c4c-472b-9865-ca65898b7a82",
   "metadata": {},
   "outputs": [
    {
     "name": "stdin",
     "output_type": "stream",
     "text": [
      "Enter a: 5\n",
      "Enter b: 7\n",
      "Enter c: 8\n"
     ]
    },
    {
     "name": "stdout",
     "output_type": "stream",
     "text": [
      "Maximum: 8\n",
      "Minimum: 5\n"
     ]
    }
   ],
   "source": [
    "'''write a function that receives 3 values from user and check the max and min of the 3 values in the function \n",
    "and return the max and min values to the function'''\n",
    "def max_min(a,b,c):\n",
    "    return max(a,b,c), min(a,b,c)\n",
    "a= int(input(\"Enter a:\"))\n",
    "b= int(input(\"Enter b:\"))\n",
    "c= int(input(\"Enter c:\"))\n",
    "maxi, mini= max_min(a,b,c)\n",
    "print(\"Maximum:\",maxi)\n",
    "print(\"Minimum:\",mini)"
   ]
  },
  {
   "cell_type": "code",
   "execution_count": 59,
   "id": "3de2cc3a-fc95-4f2c-ae16-2c0250478ab3",
   "metadata": {},
   "outputs": [
    {
     "name": "stdin",
     "output_type": "stream",
     "text": [
      "Enter the number as space seperated: 10 11 12 13 14 15\n"
     ]
    },
    {
     "name": "stdout",
     "output_type": "stream",
     "text": [
      "Even Count: 3\n",
      "Odd Count: 3\n"
     ]
    }
   ],
   "source": [
    "def eo(numbers):\n",
    "    e=0\n",
    "    o=0\n",
    "    for n in numbers:\n",
    "        if n % 2 ==0:\n",
    "            e+=1\n",
    "        else:\n",
    "            o+=1\n",
    "    return e,o\n",
    "num = input(\"Enter the number as space seperated:\")\n",
    "num_list= list(map(int,num.split()))\n",
    "e,o= eo(num_list)\n",
    "print(\"Even Count:\", e)\n",
    "print(\"Odd Count:\", o)"
   ]
  },
  {
   "cell_type": "code",
   "execution_count": 61,
   "id": "27c19153-add3-40ab-9da4-34c21ba028d4",
   "metadata": {},
   "outputs": [
    {
     "name": "stdout",
     "output_type": "stream",
     "text": [
      "27\n"
     ]
    }
   ],
   "source": [
    "expo= lambda a: a**a\n",
    "print(expo(3))"
   ]
  },
  {
   "cell_type": "code",
   "execution_count": 63,
   "id": "da3ac00f-a738-4f1c-9493-12642ead77bb",
   "metadata": {},
   "outputs": [
    {
     "name": "stdout",
     "output_type": "stream",
     "text": [
      "Sum: 13\n"
     ]
    }
   ],
   "source": [
    "add= lambda aa,b: a+b\n",
    "print(\"Sum:\", add(7,8))"
   ]
  },
  {
   "cell_type": "code",
   "execution_count": 65,
   "id": "530d3ce1-81e6-43ef-a36a-cec7a07e2ec8",
   "metadata": {},
   "outputs": [
    {
     "name": "stdout",
     "output_type": "stream",
     "text": [
      "Is 6 even? True\n"
     ]
    }
   ],
   "source": [
    "is_even = lambda n: n%2==0\n",
    "print(\"Is 6 even?\", is_even(6))"
   ]
  },
  {
   "cell_type": "code",
   "execution_count": 67,
   "id": "4338061f-b4fe-4660-bcbb-efdc6ef554f9",
   "metadata": {},
   "outputs": [
    {
     "name": "stdout",
     "output_type": "stream",
     "text": [
      "[1, 4, 9, 16, 25, 36, 49, 64, 81, 100]\n"
     ]
    }
   ],
   "source": [
    "nums= [1,2,3,4,5,6,7,8,9,10]\n",
    "sq= list(map(lambda n: n*n, nums))\n",
    "print(sq)"
   ]
  },
  {
   "cell_type": "code",
   "execution_count": null,
   "id": "6d159442-4182-4b33-8ce7-2facf1d37d2b",
   "metadata": {},
   "outputs": [],
   "source": []
  }
 ],
 "metadata": {
  "kernelspec": {
   "display_name": "Python 3 (ipykernel)",
   "language": "python",
   "name": "python3"
  },
  "language_info": {
   "codemirror_mode": {
    "name": "ipython",
    "version": 3
   },
   "file_extension": ".py",
   "mimetype": "text/x-python",
   "name": "python",
   "nbconvert_exporter": "python",
   "pygments_lexer": "ipython3",
   "version": "3.12.7"
  }
 },
 "nbformat": 4,
 "nbformat_minor": 5
}
