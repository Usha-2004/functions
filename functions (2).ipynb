{
 "cells": [
  {
   "cell_type": "code",
   "execution_count": 3,
   "id": "be250a3b-eab0-4215-9533-418378cd81ea",
   "metadata": {},
   "outputs": [
    {
     "name": "stdout",
     "output_type": "stream",
     "text": [
      "Hello Sai\n"
     ]
    }
   ],
   "source": [
    "#func with parameter\n",
    "def hi(name):\n",
    "    print(\"Hello\",name)\n",
    "hi('Sai')"
   ]
  },
  {
   "cell_type": "code",
   "execution_count": 9,
   "id": "e8e24ee8-573a-4439-81b9-3556599dcc56",
   "metadata": {},
   "outputs": [
    {
     "name": "stdin",
     "output_type": "stream",
     "text": [
      "Enter the value of x : 12\n",
      "Enter the value of y : 12\n"
     ]
    },
    {
     "name": "stdout",
     "output_type": "stream",
     "text": [
      "sum: 24\n"
     ]
    }
   ],
   "source": [
    "#func withreturn values\n",
    "def add(a,b):\n",
    "    return a+b\n",
    "x=int(input(\"Enter the value of x :\"))\n",
    "y=int(input(\"Enter the value of y :\"))\n",
    "result=add(x,y)\n",
    "print(\"sum:\",result)"
   ]
  },
  {
   "cell_type": "code",
   "execution_count": 11,
   "id": "4ae992e1-f307-4fcd-80bd-9900f7c0fafd",
   "metadata": {},
   "outputs": [
    {
     "name": "stdout",
     "output_type": "stream",
     "text": [
      "Hello Doraemon\n",
      "Hello Sai\n"
     ]
    }
   ],
   "source": [
    "#func occupying parameters /default parameter\n",
    "def hi(name='Doraemon'):\n",
    "    print(\"Hello\",name)\n",
    "hi()\n",
    "hi('Sai')"
   ]
  },
  {
   "cell_type": "code",
   "execution_count": 18,
   "id": "25ff230e-c03a-4cb4-be15-81724384905e",
   "metadata": {},
   "outputs": [
    {
     "name": "stdin",
     "output_type": "stream",
     "text": [
      "Enter the value of x : 10\n",
      "Enter the value of y : 5\n"
     ]
    },
    {
     "name": "stdout",
     "output_type": "stream",
     "text": [
      "Sum : 15\n",
      "Sub : 5\n",
      "Mul : 50\n"
     ]
    }
   ],
   "source": [
    "\n",
    "\n",
    "\n",
    "\n",
    "\n"
   ]
  },
  {
   "cell_type": "code",
   "execution_count": null,
   "id": "28a639b8-a30f-481a-8aaf-0d378993208a",
   "metadata": {},
   "outputs": [],
   "source": []
  }
 ],
 "metadata": {
  "kernelspec": {
   "display_name": "Python 3 (ipykernel)",
   "language": "python",
   "name": "python3"
  },
  "language_info": {
   "codemirror_mode": {
    "name": "ipython",
    "version": 3
   },
   "file_extension": ".py",
   "mimetype": "text/x-python",
   "name": "python",
   "nbconvert_exporter": "python",
   "pygments_lexer": "ipython3",
   "version": "3.12.7"
  }
 },
 "nbformat": 4,
 "nbformat_minor": 5
}
