{
 "cells": [
  {
   "cell_type": "code",
   "execution_count": 3,
   "id": "35a83289-a396-4448-9838-8c18b3c20f40",
   "metadata": {},
   "outputs": [
    {
     "name": "stdout",
     "output_type": "stream",
     "text": [
      "2\n",
      "1\n"
     ]
    }
   ],
   "source": [
    "a=1\n",
    "b=2\n",
    "a=a^b\n",
    "b=a^b\n",
    "a=a^b\n",
    "print(a)\n",
    "print(b)"
   ]
  },
  {
   "cell_type": "code",
   "execution_count": 22,
   "id": "70699216-4aff-4fee-8d36-b6c7c123e4f1",
   "metadata": {},
   "outputs": [
    {
     "name": "stdout",
     "output_type": "stream",
     "text": [
      "2\n",
      "1\n"
     ]
    }
   ],
   "source": [
    "#swap 2 number using conditionl swap by logical AND/OR\n",
    "#constraint : temp buket\n",
    "a=1\n",
    "b=2\n",
    "temp=a\n",
    "a=(a|b)&b\n",
    "b=(temp|b)&temp\n",
    "print(a)\n",
    "print(b)"
   ]
  },
  {
   "cell_type": "code",
   "execution_count": 28,
   "id": "db6dc634-ad31-4ccc-8c12-b8232717062f",
   "metadata": {},
   "outputs": [
    {
     "name": "stdout",
     "output_type": "stream",
     "text": [
      "[2, 1, 3]\n",
      "{'a': 20, 'b': 5}\n"
     ]
    }
   ],
   "source": [
    "gen=iter([1,2,3])\n",
    "lst=list(gen)\n",
    "lst[0],lst[1]=lst[1],lst[0]\n",
    "print(lst)\n",
    "d={'a':5,'b':20}\n",
    "d['a'],d['b']=d['b'],d['a']\n",
    "print(d)"
   ]
  },
  {
   "cell_type": "code",
   "execution_count": 32,
   "id": "c6e7d93b-3869-43ed-8736-8839f2ebfdb3",
   "metadata": {},
   "outputs": [
    {
     "name": "stdout",
     "output_type": "stream",
     "text": [
      "[1, 4, 9, 16, 25, 36, 49, 64, 81, 100]\n"
     ]
    }
   ],
   "source": [
    "#write a program to print the square of in number in a list\n",
    "#using single line list comprehension\n",
    "n=10\n",
    "print([i**2 for i in range(1,11)])"
   ]
  },
  {
   "cell_type": "code",
   "execution_count": null,
   "id": "7d4d857d-7c31-4495-8033-059065703127",
   "metadata": {},
   "outputs": [],
   "source": [
    "num int(input(\"enter a number\"))\n",
    "copy=num\n",
    "while num>0:\n",
    "    digit=num%10\n",
    "    fact=1\n",
    "    for i in range(1,digit+1):\n",
    "        fact*=1\n",
    "    sum+=fact\n",
    "    num//=10\n",
    "if sum==copy:\n",
    "    print(copy,\"is a strong number\")\n",
    "else:\n",
    "    print("
   ]
  }
 ],
 "metadata": {
  "kernelspec": {
   "display_name": "Python 3 (ipykernel)",
   "language": "python",
   "name": "python3"
  },
  "language_info": {
   "codemirror_mode": {
    "name": "ipython",
    "version": 3
   },
   "file_extension": ".py",
   "mimetype": "text/x-python",
   "name": "python",
   "nbconvert_exporter": "python",
   "pygments_lexer": "ipython3",
   "version": "3.12.7"
  }
 },
 "nbformat": 4,
 "nbformat_minor": 5
}
