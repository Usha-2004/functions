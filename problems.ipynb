{
 "cells": [
  {
   "cell_type": "code",
   "execution_count": 3,
   "id": "b6f2e89c-d8c7-402c-8584-2e3b55bfe388",
   "metadata": {},
   "outputs": [
    {
     "name": "stdout",
     "output_type": "stream",
     "text": [
      "vehicle is starting\n",
      "car is starting with a key\n",
      "bike is starting with a key\n"
     ]
    }
   ],
   "source": [
    "class vehicle:\n",
    "    def start(self):\n",
    "        print(\"vehicle is starting\")\n",
    "class car:\n",
    "    def start(self):\n",
    "        print(\"car is starting with a key\")\n",
    "class bike:\n",
    "    def start(self):\n",
    "        print(\"bike is starting with a key\")\n",
    "v=vehicle()\n",
    "c=car()\n",
    "b=bike()\n",
    "v.start()\n",
    "c.start()\n",
    "b.start()"
   ]
  },
  {
   "cell_type": "code",
   "execution_count": 5,
   "id": "f1ce4018-2f71-4a1f-b7ea-f2c757f53956",
   "metadata": {},
   "outputs": [
    {
     "name": "stdout",
     "output_type": "stream",
     "text": [
      "caliculating\n",
      "deploy area of circle\n"
     ]
    }
   ],
   "source": [
    "class shape:\n",
    "    def area(self):\n",
    "        print(\"deploy area of circle\")\n",
    "class circle(shape):\n",
    "    def area(self):\n",
    "        print(\"caliculating\")\n",
    "        super().area()\n",
    "c=circle()\n",
    "c.area()"
   ]
  },
  {
   "cell_type": "code",
   "execution_count": 7,
   "id": "16d3858e-6587-4382-82eb-290b29f61147",
   "metadata": {},
   "outputs": [
    {
     "name": "stdout",
     "output_type": "stream",
     "text": [
      "Employee salary is50000\n",
      "Manager salary is  55000\n",
      "Developer salary is round 60000.0\n"
     ]
    }
   ],
   "source": [
    "class employee:\n",
    "    def salary(self,cash):\n",
    "        print(f\"Employee salary is{cash}\")\n",
    "class manager(employee):\n",
    "    def salary(self,cash):\n",
    "        print(f\"Manager salary is \",round(cash*1.1))\n",
    "class developer(employee):\n",
    "    def salary(self,cash):\n",
    "        print(f\"Developer salary is round\", (cash*1.2))\n",
    "e=employee()\n",
    "m=manager()\n",
    "d=developer()\n",
    "e.salary(50000)\n",
    "m.salary(50000)\n",
    "d.salary(50000)\n",
    "        "
   ]
  },
  {
   "cell_type": "code",
   "execution_count": 9,
   "id": "b696fd50-132d-418f-a784-5000da6aceae",
   "metadata": {},
   "outputs": [
    {
     "name": "stdout",
     "output_type": "stream",
     "text": [
      "Hello, How are ya!!!\n",
      "Hey, whazzup!!!\n",
      "who the hell are you!!!\n"
     ]
    }
   ],
   "source": [
    "class person:\n",
    "    def hi(self):\n",
    "        return \"Hello, How are ya!!!\"\n",
    "class friend:\n",
    "    def hi(self):\n",
    "        return \"Hey, whazzup!!!\"\n",
    "class stranger:\n",
    "    def hi(self):\n",
    "        return \"who the hell are you!!!\"\n",
    "                               \n",
    "p=person()\n",
    "f=friend()\n",
    "s=stranger()\n",
    "print(p.hi())\n",
    "print(f.hi())\n",
    "print(s.hi())\n"
   ]
  },
  {
   "cell_type": "code",
   "execution_count": 15,
   "id": "8e0f3f53-20fd-4076-9240-ee5f6742cd0d",
   "metadata": {},
   "outputs": [
    {
     "ename": "IndentationError",
     "evalue": "unindent does not match any outer indentation level (<string>, line 9)",
     "output_type": "error",
     "traceback": [
      "\u001b[1;36m  File \u001b[1;32m<string>:9\u001b[1;36m\u001b[0m\n\u001b[1;33m    return result\u001b[0m\n\u001b[1;37m                 ^\u001b[0m\n\u001b[1;31mIndentationError\u001b[0m\u001b[1;31m:\u001b[0m unindent does not match any outer indentation level\n"
     ]
    }
   ],
   "source": [
    "class m_ops:\n",
    "    def operate(self,a,b):\n",
    "        result=[]\n",
    "        for i in range(len(a)):\n",
    "            r=[]\n",
    "            for j in range(len(a[0])):\n",
    "                r.append(a[i][j]+b[i][j])\n",
    "                result.append(r)\n",
    "             return result\n",
    "class m_sub(m_ops):            \n",
    "  def operate(self,a,b):\n",
    "        result=[]\n",
    "        for i in range(len(a)):\n",
    "            r=[]\n",
    "            for j in range(len(a[0])):\n",
    "                r.append(a[i][j]-b[i][j])\n",
    "                result.append(r)\n",
    "             return result\n",
    "class m_mul(m_ops):\n",
    " def operate(self,a,b):\n",
    "        result=[]\n",
    "        for i in range(len(a)):\n",
    "            r=[]\n",
    "            for j in range(len(b[0])):\n",
    "                val=0\n",
    "                for k in range(len(b)):\n",
    "                    val+=a[i][k]*b[k][j]\n",
    "                    r.append(val\n",
    "                result.append(r)\n",
    "             return result   \n",
    "\n",
    "\n",
    "\n",
    "def input_matrix(name):\n",
    "    r=int(input(f\"Enter numberof rowsfor{name}:\"))\n",
    "    c=int(input(f\"Enter numberof colums for{name}:\"))\n",
    "    matrix=[]\n",
    "    print(f\"Enter element of the matrix {name}:\")\n",
    "    for i in range(r)\n",
    "          r=list(map(int, input(f\"row{i+1}:\").split()))\n",
    "          matrix.append(r)\n",
    "     return matrix\n",
    "a=input_matrix('a')\n",
    "b=input_matrix('b')\n",
    "print(\"select operation:\")\n",
    "print(\"1. Addition\")\n",
    "print(\"2. Subtract\")\n",
    "print(\"3. Product\")\n",
    "choice= int(input(\"Enter yourchoice(1/2/3):\")\n",
    "if choice=='1':\n",
    "     op=m_0ps()\n",
    "elif choice=='2':\n",
    "     op= m_sub()\n",
    "elif choice=='3':\n",
    "     op= m_mul()\n",
    "else:\n",
    "    print(\"invalid choice\")\n",
    "         exit()\n",
    "result=op.operate(a,b)\n",
    "print(\"\\n result\")\n",
    "for r in result:\n",
    "    print(r)"
   ]
  },
  {
   "cell_type": "code",
   "execution_count": null,
   "id": "6ce3d391-7ced-41bf-84a1-efde6403dde2",
   "metadata": {},
   "outputs": [],
   "source": []
  }
 ],
 "metadata": {
  "kernelspec": {
   "display_name": "Python 3 (ipykernel)",
   "language": "python",
   "name": "python3"
  },
  "language_info": {
   "codemirror_mode": {
    "name": "ipython",
    "version": 3
   },
   "file_extension": ".py",
   "mimetype": "text/x-python",
   "name": "python",
   "nbconvert_exporter": "python",
   "pygments_lexer": "ipython3",
   "version": "3.12.7"
  }
 },
 "nbformat": 4,
 "nbformat_minor": 5
}
