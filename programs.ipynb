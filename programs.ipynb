{
 "cells": [
  {
   "cell_type": "code",
   "execution_count": 3,
   "id": "9df7af6f-20eb-4cc6-a338-16858eb5056d",
   "metadata": {},
   "outputs": [
    {
     "name": "stdout",
     "output_type": "stream",
     "text": [
      "5\n",
      "15\n"
     ]
    }
   ],
   "source": [
    "#fuction with default parameters\n",
    "def sample(x, y=1):\n",
    "    return x*y\n",
    "print(sample(5))\n",
    "print(sample(5,3))"
   ]
  },
  {
   "cell_type": "code",
   "execution_count": 7,
   "id": "de6e9c5c-154e-4282-bc68-d6c3270bee50",
   "metadata": {},
   "outputs": [
    {
     "name": "stdout",
     "output_type": "stream",
     "text": [
      "6\n",
      "110\n"
     ]
    }
   ],
   "source": [
    "#function with keyword args *\n",
    "def result(*args):\n",
    "    return sum(args)\n",
    "print(result(1,2,3))\n",
    "print(result(11,22,33,44))"
   ]
  },
  {
   "cell_type": "code",
   "execution_count": 23,
   "id": "06783b23-d80d-48bb-87eb-4923ab7a95e9",
   "metadata": {},
   "outputs": [
    {
     "name": "stdout",
     "output_type": "stream",
     "text": [
      "25\n",
      "8\n"
     ]
    }
   ],
   "source": [
    "#lambda fun\n",
    "sq=lambda x: x*x\n",
    "print(sq(5))\n",
    "add= lambda x,y: x+y\n",
    "print(add(3,5))"
   ]
  },
  {
   "cell_type": "code",
   "execution_count": 21,
   "id": "e93883a6-923b-455c-a8da-ba7c8ce2401d",
   "metadata": {},
   "outputs": [
    {
     "name": "stdout",
     "output_type": "stream",
     "text": [
      "name : Vijay\n",
      "age : 33\n",
      "city : Mumbai\n"
     ]
    }
   ],
   "source": [
    "def info(**kwargs):\n",
    "    for key, value in kwargs.items():\n",
    "        print(f\"{key} : {value}\")\n",
    "info(name=\"Vijay\", age= 33, city= \"Mumbai\")"
   ]
  },
  {
   "cell_type": "code",
   "execution_count": 37,
   "id": "79ed3eaf-a1de-4fe9-bad2-d83ee70889e3",
   "metadata": {},
   "outputs": [
    {
     "name": "stdout",
     "output_type": "stream",
     "text": [
      "Min: 1, Max:5, Average:3.0\n"
     ]
    }
   ],
   "source": [
    "'''write a program to return n number multiple values where passing a list of 1 to 5\n",
    "elements return the min max and avg in a single funtion'''\n",
    "def allnum(n):\n",
    "    return min(n), max(n), sum(n)/len(n)\n",
    "min_val, max_val, avg = allnum([1,2,3,4,5])\n",
    "print(f\"Min: {min_val}, Max:{max_val}, Average:{avg}\")\n"
   ]
  },
  {
   "cell_type": "code",
   "execution_count": 39,
   "id": "dec75c19-6a24-4578-aa0d-f993bbe93f09",
   "metadata": {},
   "outputs": [
    {
     "name": "stdout",
     "output_type": "stream",
     "text": [
      "120\n"
     ]
    }
   ],
   "source": [
    "#direct recurion fact\n",
    "def fact(n):\n",
    "    if n==0 or n==1:\n",
    "        return 1\n",
    "    return n*fact(n-1)\n",
    "print(fact(5))"
   ]
  },
  {
   "cell_type": "code",
   "execution_count": 41,
   "id": "ca6ed01d-effc-41ab-a8a9-fd5a88957351",
   "metadata": {},
   "outputs": [
    {
     "name": "stdout",
     "output_type": "stream",
     "text": [
      "True\n",
      "True\n"
     ]
    }
   ],
   "source": [
    "def e(n):\n",
    "    if n==0:\n",
    "        return True\n",
    "    return o(n-1)\n",
    "def o(n):\n",
    "    if n==0:\n",
    "        return True\n",
    "    return e(n-1)\n",
    "print(e(4))\n",
    "print(o(3))"
   ]
  },
  {
   "cell_type": "code",
   "execution_count": 43,
   "id": "ed62aad2-6f62-411b-a99f-5810244b04c3",
   "metadata": {},
   "outputs": [
    {
     "name": "stdout",
     "output_type": "stream",
     "text": [
      "120\n"
     ]
    }
   ],
   "source": [
    "def fact(n, t=1):\n",
    "    if n==0 or n==1:\n",
    "        return t\n",
    "    return fact(n-1, n*t)\n",
    "print(fact(5))"
   ]
  },
  {
   "cell_type": "code",
   "execution_count": 45,
   "id": "af9f5a96-e904-4be2-b7c4-a9e9103d5d1a",
   "metadata": {},
   "outputs": [
    {
     "name": "stdout",
     "output_type": "stream",
     "text": [
      "55\n"
     ]
    }
   ],
   "source": [
    "#linear rec\n",
    "def total(n):\n",
    "    if n<=0:\n",
    "        return 0\n",
    "    return n+total(n-1)\n",
    "print(total(10))"
   ]
  },
  {
   "cell_type": "code",
   "execution_count": 49,
   "id": "e31d33eb-d5f0-48ef-a57f-311bf11a146e",
   "metadata": {},
   "outputs": [
    {
     "name": "stdout",
     "output_type": "stream",
     "text": [
      "288\n"
     ]
    }
   ],
   "source": [
    "def sfact(n):\n",
    "    if n<=0:\n",
    "        return 1\n",
    "    return fact(n) *sfact(n-1)\n",
    "def fact(n):\n",
    "    if n<=1:\n",
    "        return 1\n",
    "    return n*fact(n-1)\n",
    "print (sfact(4))\n",
    "    "
   ]
  },
  {
   "cell_type": "code",
   "execution_count": 51,
   "id": "dc909c00-3df3-4459-b69f-701f201b446d",
   "metadata": {},
   "outputs": [
    {
     "name": "stdout",
     "output_type": "stream",
     "text": [
      "65536\n",
      "27\n"
     ]
    }
   ],
   "source": [
    "#power tower recursion\n",
    "def pt(a,n):\n",
    "    if n==1:\n",
    "        return a\n",
    "    return a**pt(a, n-1)\n",
    "print(pt(2,4))\n",
    "print(pt(3,2))"
   ]
  },
  {
   "cell_type": "code",
   "execution_count": null,
   "id": "e1795fe3-e230-496d-b467-53c4be85efe1",
   "metadata": {},
   "outputs": [],
   "source": []
  }
 ],
 "metadata": {
  "kernelspec": {
   "display_name": "Python 3 (ipykernel)",
   "language": "python",
   "name": "python3"
  },
  "language_info": {
   "codemirror_mode": {
    "name": "ipython",
    "version": 3
   },
   "file_extension": ".py",
   "mimetype": "text/x-python",
   "name": "python",
   "nbconvert_exporter": "python",
   "pygments_lexer": "ipython3",
   "version": "3.12.7"
  }
 },
 "nbformat": 4,
 "nbformat_minor": 5
}
